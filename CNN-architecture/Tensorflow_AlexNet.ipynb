{
 "cells": [
  {
   "cell_type": "markdown",
   "metadata": {
    "toc": true
   },
   "source": [
    "<h1>Table of Contents<span class=\"tocSkip\"></span></h1>\n",
    "<div class=\"toc\" style=\"margin-top: 1em;\"><ul class=\"toc-item\"><li><ul class=\"toc-item\"><li><span><a href=\"#Image-Recongnition-Case-with-CNN-By-Tensorflow\" data-toc-modified-id=\"Image-Recongnition-Case-with-CNN-By-Tensorflow-0.1\">Image Recongnition Case with CNN By Tensorflow</a></span><ul class=\"toc-item\"><li><span><a href=\"#1.Loading-data\" data-toc-modified-id=\"1.Loading-data-0.1.1\">1.Loading data</a></span><ul class=\"toc-item\"><li><span><a href=\"#1.1创建TFReord文件(create-TFRecord-file)\" data-toc-modified-id=\"1.1创建TFReord文件(create-TFRecord-file)-0.1.1.1\">1.1创建TFReord文件(create TFRecord file)</a></span></li><li><span><a href=\"#1.2-读取TFRecord文件\" data-toc-modified-id=\"1.2-读取TFRecord文件-0.1.1.2\">1.2 读取TFRecord文件</a></span></li></ul></li><li><span><a href=\"#3.Alexnet-model\" data-toc-modified-id=\"3.Alexnet-model-0.1.2\">3.Alexnet model</a></span><ul class=\"toc-item\"><li><span><a href=\"#3.1-define-network-layers\" data-toc-modified-id=\"3.1-define-network-layers-0.1.2.1\">3.1 define network layers</a></span></li><li><span><a href=\"#3.2-implementation-of-Alexnet-architecture\" data-toc-modified-id=\"3.2-implementation-of-Alexnet-architecture-0.1.2.2\">3.2 implementation of Alexnet architecture</a></span></li><li><span><a href=\"#3.3-finetune_alexnet\" data-toc-modified-id=\"3.3-finetune_alexnet-0.1.2.3\">3.3 finetune_alexnet</a></span></li></ul></li></ul></li></ul></li></ul></div>"
   ]
  },
  {
   "cell_type": "markdown",
   "metadata": {},
   "source": [
    "## Image Recongnition Case with CNN By Tensorflow\n",
    "Refrence List\n",
    "- Coursera course [Deep Learning Specialization](https://www.coursera.org/specializations/deep-learning) by Andrew Ng\n",
    "- [An Introduction to Implementing Neural Networks using Tensorflow](https://www.analyticsvidhya.com/blog/2016/10/an-introduction-to-implementing-neural-networks-using-tensorflow/)\n",
    "- [Deep Learning with Tensorflow](https://github.com/caicloud/tensorflow-tutorial)"
   ]
  },
  {
   "cell_type": "markdown",
   "metadata": {},
   "source": [
    "- The arthitechture of Inception-v3 is an classic [Convolutional Neural Network](https://en.wikipedia.org/wiki/Convolutional_neural_network)\n",
    " - stacking the output layers convoluting by different filter \n",
    " - the different filter can detect various scale feature \n",
    " - keeping scale invariance property\n",
    "- Tensorflow is a low level library\n",
    "- To define a neural network architecture, you should have fundamental knowledge of NN:\n",
    " - initialize parameter\n",
    " - forward propagation\n",
    " - compute cost\n",
    " - backward propagation\n",
    " - update parameter"
   ]
  },
  {
   "cell_type": "code",
   "execution_count": 1,
   "metadata": {
    "collapsed": false
   },
   "outputs": [],
   "source": [
    "import math\n",
    "import numpy as np\n",
    "import pandas as pd\n",
    "import matplotlib.pyplot as plt\n",
    "import tensorflow as tf\n",
    "import tensorflow.contrib.slim as slim\n",
    "from tensorflow.python.framework import ops\n",
    "\n",
    "from sklearn.model_selection import train_test_split\n",
    "import os\n",
    "path = r\"F:\\Diverse\\statistics\\Python_data_analysis\\Kaggle项目\\20170926_MNIST\\dataset\"\n",
    "os.chdir(path)\n",
    "\n",
    "%matplotlib inline\n",
    "np.random.seed(1)"
   ]
  },
  {
   "cell_type": "markdown",
   "metadata": {
    "collapsed": true
   },
   "source": [
    "### 1.Loading data\n",
    "- create a TFRecord file\n",
    "- loading data API\n",
    " - tf.data.dataset\n",
    " - tf.data.TFRecordDataset"
   ]
  },
  {
   "cell_type": "markdown",
   "metadata": {},
   "source": [
    "#### 1.1创建TFReord文件(create TFRecord file)"
   ]
  },
  {
   "cell_type": "raw",
   "metadata": {
    "collapsed": true
   },
   "source": [
    "# 定义整数型和字符串型数据属性\n",
    "def _int64_feature(value):\n",
    "    return tf.train.Feature(int64_list=tf.train.Int64List(value=[value]))\n",
    "def _bytes_feature(value):\n",
    "    return tf.train.Feature(bytes_list=tf.train.BytesList(value=[value]))"
   ]
  },
  {
   "cell_type": "raw",
   "metadata": {
    "collapsed": false
   },
   "source": [
    "#读取原始数据\n",
    "train = pd.read_csv(\"train.csv\")\n",
    "label = train.label.values\n",
    "data = train.iloc[:,1:]\n",
    "data = np.reshape(data.values,newshape=(data.shape[0],28,28,1))\n",
    "print(data.shape)"
   ]
  },
  {
   "cell_type": "raw",
   "metadata": {
    "collapsed": true
   },
   "source": [
    "# 创建TFRcord文件\n",
    "filename = r\"mnist.tfrecords\" #地址必须已经存在\n",
    "writer = tf.python_io.TFRecordWriter(filename)\n",
    "examples_num = data.shape[0]\n",
    "for index in range(examples_num):\n",
    "    image_raw = data[index,:].tostring()# 图像转化为字符串\n",
    "    # 定义Example Protocal Buffer数据结构，写入样例\n",
    "    example = tf.train.Example(features=tf.train.Features(feature={\n",
    "        \"labels\": _int64_feature(label[index]),\n",
    "        \"image_raw\": _bytes_feature(image_raw)\n",
    "    }))\n",
    "    writer.write(example.SerializeToString())\n",
    "writer.close()"
   ]
  },
  {
   "cell_type": "markdown",
   "metadata": {},
   "source": [
    "#### 1.2 读取TFRecord文件"
   ]
  },
  {
   "cell_type": "raw",
   "metadata": {
    "collapsed": false
   },
   "source": [
    "# 解析方法1\n",
    "filename = r\"mnist.tfrecords\" #地址必须已经存在\n",
    "file = tf.train.string_input_producer([filename])\n",
    "reader = tf.TFRecordReader()\n",
    "_,example = reader.read(file)\n",
    "features = tf.parse_single_example(example,\n",
    "                                      features={\n",
    "                                          \"image_raw\": tf.FixedLenFeature([],tf.string),\n",
    "                                          \"labels\": tf.FixedLenFeature([],tf.int64)\n",
    "                                      })\n",
    "    \n",
    "images = tf.decode_raw(features[\"image_raw\"],tf.int64)\n",
    "labels = tf.cast(features[\"labels\"], tf.int8)\n",
    "\n",
    "sess = tf.Session()\n",
    "coord = tf.train.Coordinator()\n",
    "threads = tf.train.start_queue_runners(sess=sess,coord=coord)\n",
    "image,label = sess.run([images,labels])"
   ]
  },
  {
   "cell_type": "code",
   "execution_count": 2,
   "metadata": {
    "collapsed": false
   },
   "outputs": [
    {
     "data": {
      "text/plain": [
       "'\\nsess = tf.Session()\\nfor i in range(2):\\n    image_data,labels_data=sess.run(one_element)\\n'"
      ]
     },
     "execution_count": 2,
     "metadata": {},
     "output_type": "execute_result"
    }
   ],
   "source": [
    "#解析方法2\n",
    "def parser(example):\n",
    "    features={\"image_raw\": tf.FixedLenFeature([],tf.string),\n",
    "          \"labels\": tf.FixedLenFeature([],tf.int64)}\n",
    "    feature = tf.parse_single_example(example,features)\n",
    "    images = tf.decode_raw(feature[\"image_raw\"],tf.int64)\n",
    "    label = tf.cast(feature[\"labels\"], tf.int8)\n",
    "    return images,label\n",
    "\n",
    "def get_data(batch, epoch):\n",
    "    filename = r\"mnist.tfrecords\" #地址必须已经存在\n",
    "    dataset = tf.data.TFRecordDataset([filename])\n",
    "    maps = dataset.map(parser)\n",
    "    batch_data = maps.repeat(epoch)\n",
    "    batch_data = batch_data.batch(batch) \n",
    "    iterator =batch_data.make_one_shot_iterator() #iterator对象\n",
    "    one_element = iterator.get_next() #tensor对象\n",
    "    return one_element\n",
    "\n",
    "'''\n",
    "sess = tf.Session()\n",
    "for i in range(2):\n",
    "    image_data,labels_data=sess.run(one_element)\n",
    "'''"
   ]
  },
  {
   "cell_type": "code",
   "execution_count": 5,
   "metadata": {
    "collapsed": true
   },
   "outputs": [],
   "source": [
    "test = pd.read_csv(\"test.csv\")"
   ]
  },
  {
   "cell_type": "markdown",
   "metadata": {},
   "source": [
    "To reduce training time, I just pick up 15% example for fitting my model."
   ]
  },
  {
   "cell_type": "code",
   "execution_count": 6,
   "metadata": {
    "collapsed": true
   },
   "outputs": [],
   "source": [
    "train_sample = train.sample(frac=0.15)\n",
    "X_train_flatten = train_sample.iloc[:,1:].values\n",
    "Y_train_onehot = convert_to_one_hot(train_sample.iloc[:,0].values,10)\n",
    "X_test_flatten = test.values"
   ]
  },
  {
   "cell_type": "code",
   "execution_count": 7,
   "metadata": {
    "collapsed": false
   },
   "outputs": [],
   "source": [
    "X_train, X_dev, Y_train, Y_dev = train_test_split(X_train_flatten, Y_train_onehot, random_state=42)"
   ]
  },
  {
   "cell_type": "code",
   "execution_count": 8,
   "metadata": {
    "collapsed": false
   },
   "outputs": [],
   "source": [
    "X_train = X_train/255\n",
    "X_dev = X_dev/255\n",
    "X_test = X_test_flatten/255"
   ]
  },
  {
   "cell_type": "code",
   "execution_count": 9,
   "metadata": {
    "collapsed": false
   },
   "outputs": [
    {
     "name": "stdout",
     "output_type": "stream",
     "text": [
      "number of training examples = 784\n",
      "number of dev examples = 784\n",
      "number of test examples = 784\n",
      "X_train shape: (4725, 784)\n",
      "Y_train shape: (4725, 10)\n",
      "X_dev shape: (1575, 784)\n",
      "Y_dev shape: (1575, 10)\n",
      "X_test shape: (28000, 784)\n"
     ]
    }
   ],
   "source": [
    "print (\"number of training examples = \" + str(X_train.shape[1]))\n",
    "print (\"number of dev examples = \" + str(X_dev.shape[1]))\n",
    "print (\"number of test examples = \" + str(X_test.shape[1]))\n",
    "print (\"X_train shape: \" + str(X_train.shape))\n",
    "print (\"Y_train shape: \" + str(Y_train.shape))\n",
    "print (\"X_dev shape: \" + str(X_dev.shape))\n",
    "print (\"Y_dev shape: \" + str(Y_dev.shape))\n",
    "print (\"X_test shape: \" + str(X_test.shape))"
   ]
  },
  {
   "cell_type": "markdown",
   "metadata": {},
   "source": [
    "### 3.Alexnet model\n",
    "- 3 type layer: convolution layer & local response normalization layer & fullly connected layer\n",
    "- overall architecture: 5 convolution + 3 fullly connected layer\n",
    " - input layer\n",
    " - (conv + local response normalization + maxpooling) x 2\n",
    " - conv x 2\n",
    " - conv + maxpooling\n",
    " - (fullly-connected + dropout)x 2\n",
    " - output layer(the 3rd fc)"
   ]
  },
  {
   "cell_type": "markdown",
   "metadata": {},
   "source": [
    "#### 3.1 define network layers"
   ]
  },
  {
   "cell_type": "code",
   "execution_count": 19,
   "metadata": {
    "collapsed": true
   },
   "outputs": [],
   "source": [
    "def conv(x, filter_size, num_filters, stride, name, padding=\"SAME\"):\n",
    "    # create parameters of filter\n",
    "    filter_height, filter_weight = filter_size\n",
    "    stride_x, stride_y = stride\n",
    "    input_channels = x.get_shape()[-1]\n",
    "    \n",
    "    # create convolution\n",
    "    with tf.variable_scope(name) as scope:\n",
    "        weights = tf.get_variable(\"weights\",shape=[filter_height,\n",
    "                                                  filter_weight,\n",
    "                                                  input_channels,\n",
    "                                                  num_filters],\n",
    "                                 initializer=tf.truncated_normal_initializer(stddev=0.1))\n",
    "        biases = tf.get_variable(\"biases\", shape=[num_filters],\n",
    "                                initializer=tf.constant_initializer(0))\n",
    "        conv = tf.nn.conv2d(x, weights, strides=[1, stride_x, stride_y, 1],\n",
    "                            padding=padding)\n",
    "        bias = tf.nn.bias_add(conv, biases)\n",
    "        relu = tf.nn.relu(bias, name=scope.name)\n",
    "    \n",
    "    return relu\n",
    "\n",
    "def fc(x, num_in, num_out, name, relu=True):\n",
    "    #create a fully connected layer\n",
    "    with tf.variable_scope(name) as scope:\n",
    "        weights = tf.get_variable(\"weights\",shape=[num_in,num_out],\n",
    "                                  initializer=tf.truncated_normal_initializer(stddev=0.1))\n",
    "        biases = tf.get_variable(\"biases\", shape=[num_out],\n",
    "                                initializer=tf.constant_initializer(0))\n",
    "        act = tf.nn.xw_plus_b(x, weights, biases, name=scope.name)\n",
    "        if relu:\n",
    "            relu = tf.nn.relu(act)\n",
    "            return relu\n",
    "        else:\n",
    "            return act                \n",
    "\n",
    "def max_pool(x, filter_size, stride, name, padding=\"SAME\"):\n",
    "    filter_height, filter_weight = filter_size\n",
    "    stride_x, stride_y = stride\n",
    "    # create a max pooling layer\n",
    "    pool = tf.nn.max_pool(x, ksize=[1, filter_height, filter_weight,1],\n",
    "                  strides=[1, stride_x, stride_y, 1],\n",
    "                  padding=padding, name=name)\n",
    "    return pool\n",
    "\n",
    "def lrn(x, radius, alpha, beta, name, bias=1.0):\n",
    "    # create a local response normalization layer\n",
    "    lrnl = tf.nn.local_response_normalization(x, depth_radius=radius,\n",
    "                                             alpha=alpha, beta=beta,\n",
    "                                             bias=bias, name=name)\n",
    "    return lrnl\n",
    "\n",
    "def dropout(x, keep_prob):\n",
    "    # create a dropout layer\n",
    "    return tf.nn.dropout(x, keep_prob)"
   ]
  },
  {
   "cell_type": "markdown",
   "metadata": {
    "collapsed": true
   },
   "source": [
    "#### 3.2 implementation of Alexnet architecture"
   ]
  },
  {
   "cell_type": "code",
   "execution_count": 30,
   "metadata": {
    "collapsed": true
   },
   "outputs": [],
   "source": [
    "def AlexNet(x, keep_prob, num_classes):\n",
    "    # create the network graph\n",
    "    # 1st layer:  Conv (w ReLu) -> Lrn -> Pool\n",
    "    #conv1 = conv(x, [11,11], 96, [4,4], padding=\"VALID\", name=\"conv1\")\n",
    "    conv1 = conv(x, [3,3], 96, [2,2], padding=\"VALID\", name=\"conv1\")\n",
    "    norm1 = lrn(conv1, 2, 2e-5, 0.75, name=\"norm1\")\n",
    "    pool1 = max_pool(norm1, [3,3], [2,2], padding=\"VALID\", name=\"pool1\")\n",
    "    \n",
    "    # 2nd layer: Conv (w ReLu) -> Lrn -> Pool\n",
    "    conv2 = conv(pool1, [5,5], 256, [1,1], name=\"conv2\")\n",
    "    norm2 = lrn(conv2, 2, 2e-5, 0.75, name=\"norm2\")\n",
    "    pool2 = max_pool(norm2, [3,3], [2,2], padding=\"VALID\", name=\"pool12\")\n",
    "    \n",
    "    # 3rd layer: Conv (w ReLu)\n",
    "    conv3 = conv(pool2, [3,3], 384, [1,1], name=\"conv3\")\n",
    "    \n",
    "    # 4rd layer: Conv (w ReLu)\n",
    "    conv4 = conv(conv3, [3,3], 384, [1,1], name=\"conv4\")\n",
    "    \n",
    "    # 5th Layer: Conv (w ReLu) -> Pool\n",
    "    conv5 = conv(conv4, [3,3], 256, [1,1], name=\"conv5\")\n",
    "    pool5 = max_pool(conv5, [3,3], [2,2], padding=\"VALID\", name=\"pool5\")\n",
    "    \n",
    "    # 6th Layer: Flatten -> FC (w ReLu) -> Dropout\n",
    "    #flattened = tf.reshape(pool5, [-1, 6x6x256])\n",
    "    flattened = tf.reshape(pool5, [-1, 2x2x256])\n",
    "    #fc6 = fc(flattened, 6x6x256, 4096, name=\"fc6\")\n",
    "    fc6 = fc(flattened, 2x2x256, 4096/8, name=\"fc6\")\n",
    "    dropout6 = dropout(fc6, keep_prob)\n",
    "    \n",
    "    # 7th Layer: FC (w ReLu) -> Dropout\n",
    "    fc7 = fc(dropout6, 4096/8, 4096/8, name=\"fc7\")\n",
    "    dropout7 = dropout(fc7, keep_prob)\n",
    "    \n",
    "    # 8th Layer: FC (without ReLu activations) \n",
    "    fc8 = fc(dropout7, 4096/8, num_classes, relu=False, name=\"fc8\")\n",
    "    \n",
    "    return fc8"
   ]
  },
  {
   "cell_type": "markdown",
   "metadata": {},
   "source": [
    "#### 3.3 finetune_alexnet"
   ]
  },
  {
   "cell_type": "code",
   "execution_count": 36,
   "metadata": {
    "collapsed": false
   },
   "outputs": [],
   "source": [
    "tf.reset_default_graph()\n",
    "keep_prob = 0.5\n",
    "num_classes = 10\n",
    "num_epochs = 10\n",
    "learning_rate = 0.01\n",
    "batch_size = 32\n",
    "\n",
    "with tf.name_scope(\"input\"):\n",
    "    x = tf.placeholder(tf.float32,[batch_size, 28, 28, 1])\n",
    "    y = tf.placeholder(tf.float32, [batch_size ,num_classes])\n",
    "    \n",
    "with tf.variable_scope(\"model_architecture\"):\n",
    "    fc8 = AlexNet(x, keep_prob, num_classes)\n",
    "    \n",
    "with tf.name_scope(\"loss\"):\n",
    "    cross_entropy = tf.nn.softmax_cross_entropy_with_logits(logits=fc8,labels=y)\n",
    "    loss = tf.reduce_mean(cross_entropy)\n",
    "\n",
    "tf.summary.scalar(\"loss\",loss)\n",
    "    \n",
    "with tf.name_scope(\"train\"):\n",
    "    optimizer = tf.train.GradientDescentOptimizer(learning_rate)\n",
    "    train_op = optimizer.minimize(loss)\n",
    "\n",
    "with tf.name_scope(\"accuracy\"):\n",
    "    correct_pred = tf.equal(tf.argmax(fc8,1), tf.argmax(y,1))\n",
    "    accuracy = tf.reduce_mean(tf.cast(correct_pred, tf.float32))\n",
    "\n",
    "tf.summary.scalar(\"accuracy\",accuracy)\n",
    "    \n",
    "mergerd_summary = tf.summary.merge_all()\n",
    "writer = tf.summary.FileWriter(r\"c:\\users\\bingo\\desktop\\log\")\n",
    "\n",
    "with tf.Session() as sess:\n",
    "    init = tf.global_variables_initializer()\n",
    "    sess.run(init)\n",
    "    next_batch = get_data(batch_size, num_epochs)\n",
    "    writer.add_graph(sess.graph)\n",
    "    for epoch in range(num_epochs):\n",
    "        img_batch, label_batch = sess.run(next_batch)\n",
    "        img_batch = np.reshape(img_batch,[-1,28,28,1])\n",
    "        label_batch = sess.run(tf.one_hot(label_batch, num_classes))\n",
    "        \n",
    "        _, summary = sess.run([train_op,mergerd_summary], feed_dict={x:img_batch, y:label_batch}) \n",
    "        writer.add_summary(summary,epoch)\n",
    "    writer.close()"
   ]
  },
  {
   "cell_type": "code",
   "execution_count": null,
   "metadata": {
    "collapsed": true
   },
   "outputs": [],
   "source": []
  }
 ],
 "metadata": {
  "kernelspec": {
   "display_name": "Python 3",
   "language": "python",
   "name": "python3"
  },
  "language_info": {
   "codemirror_mode": {
    "name": "ipython",
    "version": 3
   },
   "file_extension": ".py",
   "mimetype": "text/x-python",
   "name": "python",
   "nbconvert_exporter": "python",
   "pygments_lexer": "ipython3",
   "version": "3.6.0"
  },
  "toc": {
   "nav_menu": {
    "height": "69px",
    "width": "174px"
   },
   "number_sections": false,
   "sideBar": true,
   "skip_h1_title": false,
   "toc_cell": true,
   "toc_position": {
    "height": "530px",
    "left": "0px",
    "right": "1071px",
    "top": "107px",
    "width": "284px"
   },
   "toc_section_display": "block",
   "toc_window_display": false
  }
 },
 "nbformat": 4,
 "nbformat_minor": 2
}
