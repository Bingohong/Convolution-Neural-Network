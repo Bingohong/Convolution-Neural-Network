{
 "cells": [
  {
   "cell_type": "markdown",
   "metadata": {
    "toc": true
   },
   "source": [
    "<h1>Table of Contents<span class=\"tocSkip\"></span></h1>\n",
    "<div class=\"toc\" style=\"margin-top: 1em;\"><ul class=\"toc-item\"><li><ul class=\"toc-item\"><li><span><a href=\"#Image-Recongnition-Case-with-CNN-By-Tensorflow\" data-toc-modified-id=\"Image-Recongnition-Case-with-CNN-By-Tensorflow-0.1\">Image Recongnition Case with CNN By Tensorflow</a></span><ul class=\"toc-item\"><li><span><a href=\"#1.Loading-data\" data-toc-modified-id=\"1.Loading-data-0.1.1\">1.Loading data</a></span><ul class=\"toc-item\"><li><span><a href=\"#1.1创建TFReord文件(create-TFRecord-file)\" data-toc-modified-id=\"1.1创建TFReord文件(create-TFRecord-file)-0.1.1.1\">1.1创建TFReord文件(create TFRecord file)</a></span></li><li><span><a href=\"#1.2-读取TFRecord文件\" data-toc-modified-id=\"1.2-读取TFRecord文件-0.1.1.2\">1.2 读取TFRecord文件</a></span></li></ul></li><li><span><a href=\"#2.Building-a-Inception-Module\" data-toc-modified-id=\"2.Building-a-Inception-Module-0.1.2\">2.Building a Inception Module</a></span><ul class=\"toc-item\"><li><span><a href=\"#2.1-a-block-of-inception-network\" data-toc-modified-id=\"2.1-a-block-of-inception-network-0.1.2.1\">2.1 a block of inception network</a></span></li><li><span><a href=\"#2.2-Inception-V1-architecture\" data-toc-modified-id=\"2.2-Inception-V1-architecture-0.1.2.2\">2.2 Inception-V1 architecture</a></span></li><li><span><a href=\"#2.3-finetune_InceptionV1\" data-toc-modified-id=\"2.3-finetune_InceptionV1-0.1.2.3\">2.3 finetune_InceptionV1</a></span></li></ul></li><li><span><a href=\"#3.Alexnet-model\" data-toc-modified-id=\"3.Alexnet-model-0.1.3\">3.Alexnet model</a></span><ul class=\"toc-item\"><li><span><a href=\"#3.1-define-network-layers\" data-toc-modified-id=\"3.1-define-network-layers-0.1.3.1\">3.1 define network layers</a></span></li><li><span><a href=\"#3.2-implementation-of-Alexnet-architecture\" data-toc-modified-id=\"3.2-implementation-of-Alexnet-architecture-0.1.3.2\">3.2 implementation of Alexnet architecture</a></span></li><li><span><a href=\"#3.3-finetune_alexnet\" data-toc-modified-id=\"3.3-finetune_alexnet-0.1.3.3\">3.3 finetune_alexnet</a></span></li></ul></li><li><span><a href=\"#4.-VGGNet-model\" data-toc-modified-id=\"4.-VGGNet-model-0.1.4\">4. VGGNet model</a></span><ul class=\"toc-item\"><li><span><a href=\"#4.1-implementation-of-VGG-16-architecture\" data-toc-modified-id=\"4.1-implementation-of-VGG-16-architecture-0.1.4.1\">4.1 implementation of VGG-16 architecture</a></span></li><li><span><a href=\"#4.2-finetune_vggnet\" data-toc-modified-id=\"4.2-finetune_vggnet-0.1.4.2\">4.2 finetune_vggnet</a></span></li></ul></li></ul></li></ul></li></ul></div>"
   ]
  },
  {
   "cell_type": "markdown",
   "metadata": {},
   "source": [
    "## Image Recongnition Case with CNN By Tensorflow\n",
    "Refrence List\n",
    "- Coursera course [Deep Learning Specialization](https://www.coursera.org/specializations/deep-learning) by Andrew Ng\n",
    "- [An Introduction to Implementing Neural Networks using Tensorflow](https://www.analyticsvidhya.com/blog/2016/10/an-introduction-to-implementing-neural-networks-using-tensorflow/)\n",
    "- [Deep Learning with Tensorflow](https://github.com/caicloud/tensorflow-tutorial)"
   ]
  },
  {
   "cell_type": "markdown",
   "metadata": {},
   "source": [
    "- The arthitechture of Inception-v3 is an classic [Convolutional Neural Network](https://en.wikipedia.org/wiki/Convolutional_neural_network)\n",
    " - stacking the output layers convoluting by different filter \n",
    " - the different filter can detect various scale feature \n",
    " - keeping scale invariance property\n",
    "- Tensorflow is a low level library\n",
    "- To define a neural network architecture, you should have fundamental knowledge of NN:\n",
    " - initialize parameter\n",
    " - forward propagation\n",
    " - compute cost\n",
    " - backward propagation\n",
    " - update parameter"
   ]
  },
  {
   "cell_type": "code",
   "execution_count": 1,
   "metadata": {
    "collapsed": false
   },
   "outputs": [],
   "source": [
    "import math\n",
    "import numpy as np\n",
    "import pandas as pd\n",
    "import matplotlib.pyplot as plt\n",
    "import tensorflow as tf\n",
    "import tensorflow.contrib.slim as slim\n",
    "from tensorflow.python.framework import ops\n",
    "\n",
    "from sklearn.model_selection import train_test_split\n",
    "import os\n",
    "path = r\"F:\\Diverse\\statistics\\Python_data_analysis\\Kaggle项目\\20170926_MNIST\\dataset\"\n",
    "os.chdir(path)\n",
    "\n",
    "%matplotlib inline\n",
    "np.random.seed(1)"
   ]
  },
  {
   "cell_type": "markdown",
   "metadata": {
    "collapsed": true
   },
   "source": [
    "### 1.Loading data\n",
    "- create a TFRecord file\n",
    "- loading data API\n",
    " - tf.data.dataset\n",
    " - tf.data.TFRecordDataset"
   ]
  },
  {
   "cell_type": "markdown",
   "metadata": {},
   "source": [
    "#### 1.1创建TFReord文件(create TFRecord file)"
   ]
  },
  {
   "cell_type": "raw",
   "metadata": {
    "collapsed": true
   },
   "source": [
    "# 定义整数型和字符串型数据属性\n",
    "def _int64_feature(value):\n",
    "    return tf.train.Feature(int64_list=tf.train.Int64List(value=[value]))\n",
    "def _bytes_feature(value):\n",
    "    return tf.train.Feature(bytes_list=tf.train.BytesList(value=[value]))"
   ]
  },
  {
   "cell_type": "raw",
   "metadata": {
    "collapsed": false
   },
   "source": [
    "#读取原始数据\n",
    "train = pd.read_csv(\"train.csv\")\n",
    "label = train.label.values\n",
    "data = train.iloc[:,1:]\n",
    "data = np.reshape(data.values,newshape=(data.shape[0],28,28,1))\n",
    "print(data.shape)"
   ]
  },
  {
   "cell_type": "raw",
   "metadata": {
    "collapsed": true
   },
   "source": [
    "# 创建TFRcord文件\n",
    "filename = r\"mnist.tfrecords\" #地址必须已经存在\n",
    "writer = tf.python_io.TFRecordWriter(filename)\n",
    "examples_num = data.shape[0]\n",
    "for index in range(examples_num):\n",
    "    image_raw = data[index,:].tostring()# 图像转化为字符串\n",
    "    # 定义Example Protocal Buffer数据结构，写入样例\n",
    "    example = tf.train.Example(features=tf.train.Features(feature={\n",
    "        \"labels\": _int64_feature(label[index]),\n",
    "        \"image_raw\": _bytes_feature(image_raw)\n",
    "    }))\n",
    "    writer.write(example.SerializeToString())\n",
    "writer.close()"
   ]
  },
  {
   "cell_type": "markdown",
   "metadata": {},
   "source": [
    "#### 1.2 读取TFRecord文件"
   ]
  },
  {
   "cell_type": "raw",
   "metadata": {
    "collapsed": false
   },
   "source": [
    "# 解析方法1\n",
    "filename = r\"mnist.tfrecords\" #地址必须已经存在\n",
    "file = tf.train.string_input_producer([filename])\n",
    "reader = tf.TFRecordReader()\n",
    "_,example = reader.read(file)\n",
    "features = tf.parse_single_example(example,\n",
    "                                      features={\n",
    "                                          \"image_raw\": tf.FixedLenFeature([],tf.string),\n",
    "                                          \"labels\": tf.FixedLenFeature([],tf.int64)\n",
    "                                      })\n",
    "    \n",
    "images = tf.decode_raw(features[\"image_raw\"],tf.int64)\n",
    "labels = tf.cast(features[\"labels\"], tf.int8)\n",
    "\n",
    "sess = tf.Session()\n",
    "coord = tf.train.Coordinator()\n",
    "threads = tf.train.start_queue_runners(sess=sess,coord=coord)\n",
    "image,label = sess.run([images,labels])"
   ]
  },
  {
   "cell_type": "code",
   "execution_count": 2,
   "metadata": {
    "collapsed": false
   },
   "outputs": [
    {
     "data": {
      "text/plain": [
       "'\\nsess = tf.Session()\\nfor i in range(2):\\n    image_data,labels_data=sess.run(one_element)\\n'"
      ]
     },
     "execution_count": 2,
     "metadata": {},
     "output_type": "execute_result"
    }
   ],
   "source": [
    "#解析方法2\n",
    "def parser(example):\n",
    "    features={\"image_raw\": tf.FixedLenFeature([],tf.string),\n",
    "          \"labels\": tf.FixedLenFeature([],tf.int64)}\n",
    "    feature = tf.parse_single_example(example,features)\n",
    "    images = tf.decode_raw(feature[\"image_raw\"],tf.int64)\n",
    "    label = tf.cast(feature[\"labels\"], tf.int8)\n",
    "    return images,label\n",
    "\n",
    "def get_data(batch, epoch):\n",
    "    filename = r\"mnist.tfrecords\" #地址必须已经存在\n",
    "    dataset = tf.data.TFRecordDataset([filename])\n",
    "    maps = dataset.map(parser)\n",
    "    batch_data = maps.repeat(epoch)\n",
    "    batch_data = batch_data.batch(batch) \n",
    "    iterator =batch_data.make_one_shot_iterator() #iterator对象\n",
    "    one_element = iterator.get_next() #tensor对象\n",
    "    return one_element\n",
    "\n",
    "'''\n",
    "sess = tf.Session()\n",
    "for i in range(2):\n",
    "    image_data,labels_data=sess.run(one_element)\n",
    "'''"
   ]
  },
  {
   "cell_type": "code",
   "execution_count": 5,
   "metadata": {
    "collapsed": true
   },
   "outputs": [],
   "source": [
    "test = pd.read_csv(\"test.csv\")"
   ]
  },
  {
   "cell_type": "markdown",
   "metadata": {},
   "source": [
    "To reduce training time, I just pick up 15% example for fitting my model."
   ]
  },
  {
   "cell_type": "code",
   "execution_count": 6,
   "metadata": {
    "collapsed": true
   },
   "outputs": [],
   "source": [
    "train_sample = train.sample(frac=0.15)\n",
    "X_train_flatten = train_sample.iloc[:,1:].values\n",
    "Y_train_onehot = convert_to_one_hot(train_sample.iloc[:,0].values,10)\n",
    "X_test_flatten = test.values"
   ]
  },
  {
   "cell_type": "code",
   "execution_count": 7,
   "metadata": {
    "collapsed": false
   },
   "outputs": [],
   "source": [
    "X_train, X_dev, Y_train, Y_dev = train_test_split(X_train_flatten, Y_train_onehot, random_state=42)"
   ]
  },
  {
   "cell_type": "code",
   "execution_count": 8,
   "metadata": {
    "collapsed": false
   },
   "outputs": [],
   "source": [
    "X_train = X_train/255\n",
    "X_dev = X_dev/255\n",
    "X_test = X_test_flatten/255"
   ]
  },
  {
   "cell_type": "code",
   "execution_count": 9,
   "metadata": {
    "collapsed": false
   },
   "outputs": [
    {
     "name": "stdout",
     "output_type": "stream",
     "text": [
      "number of training examples = 784\n",
      "number of dev examples = 784\n",
      "number of test examples = 784\n",
      "X_train shape: (4725, 784)\n",
      "Y_train shape: (4725, 10)\n",
      "X_dev shape: (1575, 784)\n",
      "Y_dev shape: (1575, 10)\n",
      "X_test shape: (28000, 784)\n"
     ]
    }
   ],
   "source": [
    "print (\"number of training examples = \" + str(X_train.shape[1]))\n",
    "print (\"number of dev examples = \" + str(X_dev.shape[1]))\n",
    "print (\"number of test examples = \" + str(X_test.shape[1]))\n",
    "print (\"X_train shape: \" + str(X_train.shape))\n",
    "print (\"Y_train shape: \" + str(Y_train.shape))\n",
    "print (\"X_dev shape: \" + str(X_dev.shape))\n",
    "print (\"Y_dev shape: \" + str(Y_dev.shape))\n",
    "print (\"X_test shape: \" + str(X_test.shape))"
   ]
  },
  {
   "cell_type": "markdown",
   "metadata": {},
   "source": [
    "### 2.Building a Inception Module\n",
    "\n",
    "- the inception model is a huge architecture\n",
    "- the inception contains parallel structure, you can stack them in whole output\n",
    "- building a complex module as a example(the last inception block in the figure)\n",
    "- utilizing tensorflow.contrib.slim to simplify the code\n",
    "\n",
    "<img src=\"http://silverpond.com.au/img/blog/pedestrian-detection-details/image03.png\" style=\"width:1000px;height:360px;\">\n",
    "<caption><center> <u> <font color='purple'>  xxFigure 1xx </u><font color='purple'>  : xxInception Architecturexx</center></caption>"
   ]
  },
  {
   "cell_type": "markdown",
   "metadata": {},
   "source": [
    "#### 2.1 a block of inception network\n",
    "- the submodelu of tensorflow.contrib.slim\n",
    " - slim.arg_scope: 设置每层的默认参数值\n",
    " - slim.layers: 包含利用tensorflow搭建的高级层\n",
    " - slim.repeat: 生成若干个相同层\n",
    " - slim.stack: 堆叠不同若干个尺寸不同层"
   ]
  },
  {
   "cell_type": "raw",
   "metadata": {
    "collapsed": true
   },
   "source": [
    "with slim.arg_scope([slim.conv2d, slim.max_pool2d, slim.avg_pool2d], stride=1, padding=\"SAME\"):\n",
    "    net = \"the output size of previous layer\"\n",
    "    with tf.variable_scope(\"Mixed_7c\"):\n",
    "        with tf.variable_scope(\"Branch_0\"):#path-0\n",
    "            #输入矩阵为net\n",
    "            branch_0 = slim.conv2d(net, 320, [1,1], scope=\"Conv2d_0a_1x1\")\n",
    "        with tf.variable_scope(\"Branch_1\"):#path-1,inception path\n",
    "            #输入矩阵为net\n",
    "            branch_1 = slim.conv2d(net, 384, [1,1], scope=\"Conv2d_oa_1x1\")\n",
    "            #输入矩阵为branch_1\n",
    "            branch_1 = tf.concat(3,[\n",
    "                slim.conv2d(branch_1, 384, [1,3], scope=\"Conv2d_0b_1x3\"),\n",
    "                slim.conv2d(branch_1, 384, [3,1], scope=\"Conv2d_0c)3x1\")\n",
    "            ])\n",
    "        with tf.variable_scope(\"Branch_2\"):#path-2,inception path\n",
    "             #输入矩阵为net\n",
    "            branch_2 = slim.conv2d(net, 448, [1,1], scope=\"Conv2d_0a_1x1\")\n",
    "            #输入矩阵为branch_2\n",
    "            branch_2 = slim.conv2d(branch_2, 384, [3,3], scope=\"Conv2d_0b_3x3\")\n",
    "            #输入矩阵为branch_2\n",
    "            branch_2 = tf.concat(3,[\n",
    "                slim.conv2d(branch_2, 384, [1,3], scope=\"Conv2d_0c_1x3\"),\n",
    "                slim.conv2d(branch_2, 384, [3,1], scope=\"Conv2d_0d_3x1\")\n",
    "            ])\n",
    "        with tf.variable_scope(\"Branch_3\"):#path-3\n",
    "             #输入矩阵为net\n",
    "            branch_3 = slim.avg_pool2d(net, [3,3], scope=\"Avgpool_0a_3x3\")\n",
    "             #输入矩阵为branch_3\n",
    "            branch_3 = slim.conv2d(branch_3, 192, [1,1], scope=\"Conv2d_0b_1x1\")\n",
    "        net = tf.concat(3,[branch_0, branch_1, branch_2, branch_3])"
   ]
  },
  {
   "cell_type": "markdown",
   "metadata": {},
   "source": [
    "#### 2.2 Inception-V1 architecture"
   ]
  },
  {
   "cell_type": "code",
   "execution_count": 6,
   "metadata": {
    "collapsed": true
   },
   "outputs": [],
   "source": [
    "def auxiliary_layer(inputs, num_classes):\n",
    "    with tf.variable_scope(\"pool2d\"):\n",
    "        pool = slim.avg_pool2d(inputs, [5,5], stride=3)\n",
    "    with tf.variable_scope(\"conv2d\"):\n",
    "        conv = slim.conv2d(pool, 128, [1,1])\n",
    "    with tf.variable_scope(\"flatten\"):\n",
    "        flatten = tf.reshape(conv, [-1,2048])\n",
    "    with tf.variable_scope(\"fc\"):\n",
    "        fc = slim.fully_connected(flatten, 1024, activation_fn=None)\n",
    "    with tf.variable_scope(\"drop\"):\n",
    "        drop = slim.dropout(fc, 0.3)\n",
    "    with tf.variable_scope(\"line\"):\n",
    "        linear = tf.fully_connected(drop, num_classes, activation_fn=None)\n",
    "    with tf.variable_scope(\"soft\"):\n",
    "        soft = tf.nn.softmax(linear)\n",
    "    return soft"
   ]
  },
  {
   "cell_type": "code",
   "execution_count": 9,
   "metadata": {
    "collapsed": true
   },
   "outputs": [],
   "source": [
    "def inception_v1_base(inputs, scope=\"InceptionV1\", auxi=False):\n",
    "    end_points = {}\n",
    "    with tf.variable_scope(scope,\"InceptionV1\",[inputs]):\n",
    "        with slim.arg_scope([slim.conv2d, slim.fully_connected],\n",
    "                           weights_initializer=tf.truncated_normal_initializer(0.1)):\n",
    "            with slim.arg_scope([slim.conv2d, slim.max_pool2d],stride=1,padding=\"SAME\"):\n",
    "                end_point = \"Conv2d_la_7x7\"\n",
    "                net = slim.conv2d(inputs, 64, [7,7], stride=2, scope=end_point)\n",
    "                end_points[end_point] = net\n",
    "                \n",
    "                end_point = \"MaxPool_2a_3x3\"\n",
    "                net = slim.max_pool2d(net, [3,3], stride=2, scope=end_point)\n",
    "                end_points[end_point] = net\n",
    "                \n",
    "                end_point = \"Conv2d_2b_1x1\"\n",
    "                net = slim.conv2d(net, 64, [1,1], scope=end_point)\n",
    "                end_points[end_point] = net\n",
    "                \n",
    "                end_point = \"Conv2d_2c_2x2\"\n",
    "                net = slim.conv2d(net, 192, [3,3], scope=end_point)\n",
    "                end_points[end_point] = net\n",
    "                \n",
    "                end_point = \"MaxPool_3a_3x3\"\n",
    "                net = slim.max_pool2d(net, [3,3], stride=2, scope=end_point)\n",
    "                end_points[end_point] = net\n",
    "                \n",
    "                end_point = \"Mixed_3b\"\n",
    "                with tf.variable_scope(end_point):\n",
    "                    with tf.variable_scope(\"Branch_0\"):\n",
    "                        branch_0 = slim.conv2d(net, 64, [1,1], scope=\"Conv2d_0a_1x1\")\n",
    "                    with tf.variable_scope(\"Branch_1\"):\n",
    "                        branch_1 = slim.conv2d(net, 96, [1,1], scope=\"Conv2d_0a_1x1\")\n",
    "                        branch_1 = slim.conv2d(branch_1, 128, [3,3], scope=\"Conv2d_0b_3x3\")\n",
    "                    with tf.variable_scope(\"Branch_2\"):\n",
    "                        branch_2 = slim.conv2d(net, 16, [1,1], scope=\"Conv2d_0a_1x1\")\n",
    "                        branch_2 = slim.conv2d(branch_2, 32, [5,5], scope=\"Conv2d_0b_5x5\")\n",
    "                    with tf.variable_scope(\"Branch_3\"):\n",
    "                        branch_3 = slim.max_pool2d(net, [3,3], scope=\"MaxPool_0a_3x3\")\n",
    "                        branch_3 = slim.conv2d(branch_3, 32, [1,1], scope=\"Conv2d_0b_1x1\")\n",
    "                    net = tf.concat(3, [branch_0, branch_1, branch_2, branch_3])\n",
    "                end_points[end_point] = net\n",
    "                \n",
    "                end_point = \"Mixed_3c\"\n",
    "                with tf.variable_scope(end_point):\n",
    "                    with tf.variable_scope(\"Branch_0\"):\n",
    "                        branch_0 = slim.conv2d(net, 128, [1,1], scope=\"Conv2d_0a_1x1\")\n",
    "                    with tf.variable_scope(\"Branch_1\"):\n",
    "                        branch_1 = slim.conv2d(net, 128, [1,1], scope=\"Conv2d_0a_1x1\")\n",
    "                        branch_1 = slim.conv2d(branch_1, 192, [3,3], scope=\"Conv2d_0b_3x3\")\n",
    "                    with tf.variable_scope(\"Branch_2\"):\n",
    "                        branch_2 = slim.conv2d(net, 32, [1,1], scope=\"Conv2d_0a_1x1\")\n",
    "                        branch_2 = layers.conv2d(branch_2, 96, [5,5], scope=\"Conv2d_0b_5x5\")\n",
    "                    with tf.variable_scope(\"Branch_3\"):\n",
    "                        branch_3 = slim.max_pool2d(net, [3,3], scope=\"MaxPool_0a_3x3\")\n",
    "                        branch_3 = slim.conv2d(branch_3, 64, [1,1], scope=\"Conv2d_0b_1x1\")\n",
    "                    net = tf.concat(3, [branch_0, branch_1, branch_2, branch_3])\n",
    "                end_points[end_point] = net\n",
    "                \n",
    "                end_point = \"MaxPool_4a_3x3\"\n",
    "                net = slim.max_pool2d(net, [3,3], stride=2, scope=end_point)\n",
    "                end_points[end_point] = net\n",
    "                \n",
    "                if auxi:\n",
    "                    end_point = \"auxiliary_1\"\n",
    "                    with tf.variable_scope(end_point):\n",
    "                        auxiliary_1 = auxiliary_layer(net, num_classes)\n",
    "                    end_points[end_point] = auxiliary_1\n",
    "                \n",
    "                end_point = \"Mixed_4b\"\n",
    "                with tf.variable(end_point):\n",
    "                    with tf.variable_scope(\"Branch_0\"):\n",
    "                        branch_0 = slim.conv2d(net, 192, [1,1], scope=\"Conv2d_0a_1x1\")\n",
    "                    with tf.variable_scope(\"Branch_1\"):\n",
    "                        branch_1 = slim.conv2d(net, 96, [1,1], scope=\"Conv2d_0a_1x1\")\n",
    "                        branch_1 = slim.conv2d(branch_1, 208, [3,3], scope=\"Conv2d_0b_3x3\")\n",
    "                    with tf.variable_scope(\"Branch_2\"):\n",
    "                        branch_2 = slim.conv2d(net, 16, [1,1], scope=\"Conv2d_0a_1x1\")\n",
    "                        branch_2 = slim.conv2d(branch_2, 48, [5,5], scope=\"Conv2d_0b_5x5\")\n",
    "                    with tf.variable_scope(\"Branch_3\"):\n",
    "                        branch_3 = slim.max_pool2d(net, [3,3], scope=\"Conv2d_0b_1x1\")\n",
    "                        branch_3 = slim.conv2d(branch_3, 64, [1,1], scope=\"Conv2d_0b_1x1\")\n",
    "                    net = tf.concat(3, [branch_0, branch_1, branch_2, branch_3])\n",
    "                end_points[end_point] = net\n",
    "                \n",
    "                end_point = \"Mixed_4c\"\n",
    "                with tf.variable(end_point):\n",
    "                    with tf.variable_scope(\"Branch_0\"):\n",
    "                        branch_0 = slim.conv2d(net, 160, [1,1], scope=\"Conv2d_0a_1x1\")\n",
    "                    with tf.variable_scope(\"Branch_1\"):\n",
    "                        branch_1 = slim.conv2d(net, 112, [1,1], scope=\"Conv2d_0a_1x1\")\n",
    "                        branch_1 = slim.conv2d(branch_1, 224, [3,3], scope=\"Conv2d_0b_3x3\")                  \n",
    "                    with tf.variable_scope(\"Branch_2\"):\n",
    "                        branch_2 = slim.conv2d(net, 24, [1,1], scope=\"Conv2d_0a_1x1\")\n",
    "                        branch_2 = slim.conv2d(branch_2, 64, [5,5], scope=\"Conv2d_0b_5x5\")\n",
    "                    with tf.variable_scope(\"Branch_3\"):\n",
    "                        branch_3 = slim.max_pool2d(net, [3,3], scope=\"MaxPool_0a_3x3\")\n",
    "                        branch_3 = slim.conv2d(branch_3, 64, [1,1], scope=\"Conv2d_0b_1x1\")\n",
    "                    net = tf.concat(3, [branch_0, branch_1, branch_2, branch_3])\n",
    "                end_points[end_point] = net\n",
    "                \n",
    "                end_point = 'Mixed_4d'\n",
    "                with tf.variable_scope(end_point):\n",
    "                    with tf.variable_scope('Branch_0'):\n",
    "                        branch_0 = slim.conv2d(net, 128, [1, 1], scope='Conv2d_0a_1x1')\n",
    "                    with tf.variable_scope('Branch_1'):\n",
    "                        branch_1 = slim.conv2d(net, 128, [1, 1], scope='Conv2d_0a_1x1')\n",
    "                        branch_1 = slim.conv2d(branch_1, 256, [3, 3], scope='Conv2d_0b_3x3')\n",
    "                    with tf.variable_scope('Branch_2'):\n",
    "                        branch_2 = slim.conv2d(net, 24, [1, 1], scope='Conv2d_0a_1x1')\n",
    "                        branch_2 = slim.conv2d(branch_2, 64, [5, 5], scope='Conv2d_0b_5x5')\n",
    "                    with variable_scope.variable_scope('Branch_3'):\n",
    "                        branch_3 = slim.max_pool2d(net, [3, 3], scope='MaxPool_0a_3x3')\n",
    "                        branch_3 = slim.conv2d(branch_3, 64, [1, 1], scope='Conv2d_0b_1x1')\n",
    "                    net = tf.concat(3, [branch_0, branch_1, branch_2, branch_3])\n",
    "                end_points[end_point] = net\n",
    "                \n",
    "                 if auxi:\n",
    "                    end_point = \"auxliary_2\"\n",
    "                    with tf.variable_scope(end_point):\n",
    "                        auxiliary_2 = auxiliary_layer(net, num_classes)\n",
    "                    end_points[end_point] = auxiliary_2\n",
    "\n",
    "                end_point = 'Mixed_4e'\n",
    "                with tf.variable_scope(end_point):\n",
    "                    with tf.variable_scope('Branch_0'):\n",
    "                        branch_0 = slim.conv2d(net, 112, [1, 1], scope='Conv2d_0a_1x1')\n",
    "                    with tf.variable_scope('Branch_1'):\n",
    "                        branch_1 = slim.conv2d(net, 144, [1, 1], scope='Conv2d_0a_1x1')\n",
    "                        branch_1 = slim.conv2d(branch_1, 288, [3, 3], scope='Conv2d_0b_3x3')\n",
    "                    with tf.variable_scope('Branch_2'):\n",
    "                        branch_2 = slim.conv2d(net, 32, [1, 1], scope='Conv2d_0a_1x1')\n",
    "                        branch_2 = slim.conv2d(branch_2, 64, [5, 5], scope='Conv2d_0b_5x5')\n",
    "                    with tf.variable_scope('Branch_3'):\n",
    "                        branch_3 = slim.max_pool2d(net, [3, 3], scope='MaxPool_0a_3x3')\n",
    "                        branch_3 = slim.conv2d(branch_3, 64, [1, 1], scope='Conv2d_0b_1x1')\n",
    "                    net = array_ops.concat([branch_0, branch_1, branch_2, branch_3], 3)\n",
    "                    end_points[end_point] = net\n",
    "                \n",
    "                end_point = 'Mixed_4f'\n",
    "                with tf.variable_scope(end_point):\n",
    "                    with tf.variable_scope('Branch_0'):\n",
    "                        branch_0 = slim.conv2d(net, 256, [1, 1], scope='Conv2d_0a_1x1')\n",
    "                    with tf.variable_scope('Branch_1'):\n",
    "                        branch_1 = slim.conv2d(net, 160, [1, 1], scope='Conv2d_0a_1x1')\n",
    "                        branch_1 = slim.conv2d(branch_1, 320, [3, 3], scope='Conv2d_0b_3x3')\n",
    "                    with tf.variable_scope('Branch_2'):\n",
    "                        branch_2 = slim.conv2d(net, 32, [1, 1], scope='Conv2d_0a_1x1')\n",
    "                        branch_2 = slim.conv2d(branch_2, 128, [5, 5], scope='Conv2d_0b_5x5')\n",
    "                    with tf.variable_scope('Branch_3'):\n",
    "                        branch_3 = tf.max_pool2d(net, [3, 3], scope='MaxPool_0a_3x3')\n",
    "                        branch_3 = tf.conv2d(branch_3, 128, [1, 1], scope='Conv2d_0b_1x1')\n",
    "                    net = array_ops.concat([branch_0, branch_1, branch_2, branch_3], 3)\n",
    "                end_points[end_point] = net\n",
    "\n",
    "                end_point = 'MaxPool_5a_2x2'\n",
    "                net = layers_lib.max_pool2d(net, [2, 2], stride=2, scope=end_point)\n",
    "                end_points[end_point] = net\n",
    "                \n",
    "                end_point = 'Mixed_5b'\n",
    "                with tf.variable_scope(end_point):\n",
    "                    with tf.variable_scope('Branch_0'):\n",
    "                        branch_0 = slim.conv2d(net, 256, [1, 1], scope='Conv2d_0a_1x1')\n",
    "                    with variable_scope.variable_scope('Branch_1'):\n",
    "                        branch_1 = slim.conv2d(net, 160, [1, 1], scope='Conv2d_0a_1x1')\n",
    "                        branch_1 = slim.conv2d(branch_1, 320, [3, 3], scope='Conv2d_0b_3x3')\n",
    "                    with tf.variable_scope('Branch_2'):\n",
    "                        branch_2 = slim.conv2d(net, 32, [1, 1], scope='Conv2d_0a_1x1')\n",
    "                        branch_2 = slim.conv2d(branch_2, 128, [5, 5], scope='Conv2d_0a_5x5')\n",
    "                    with tf.variable_scope('Branch_3'):\n",
    "                        branch_3 = slim.max_pool2d(net, [3, 3], scope='MaxPool_0a_3x3')\n",
    "                        branch_3 = slim.conv2d(branch_3, 128, [1, 1], scope='Conv2d_0b_1x1')\n",
    "                    net = array_ops.concat([branch_0, branch_1, branch_2, branch_3], 3)\n",
    "                end_points[end_point] = net\n",
    "\n",
    "                end_point = 'Mixed_5c'\n",
    "                with tf.variable_scope(end_point):\n",
    "                    with tf.variable_scope('Branch_0'):\n",
    "                        branch_0 = slim.conv2d(net, 384, [1, 1], scope='Conv2d_0a_1x1')\n",
    "                    with tf.variable_scope('Branch_1'):\n",
    "                        branch_1 = slim.conv2d(net, 192, [1, 1], scope='Conv2d_0a_1x1')\n",
    "                        branch_1 = slim.conv2d(branch_1, 384, [3, 3], scope='Conv2d_0b_3x3')\n",
    "                    with tf.variable_scope('Branch_2'):\n",
    "                        branch_2 = slim.conv2d(net, 48, [1, 1], scope='Conv2d_0a_1x1')\n",
    "                        branch_2 = slim.conv2d(branch_2, 128, [5, 5], scope='Conv2d_0b_5x5')\n",
    "                    with variable_scope.variable_scope('Branch_3'):\n",
    "                        branch_3 = layers_lib.max_pool2d(net, [3, 3], scope='MaxPool_0a_3x3')\n",
    "                        branch_3 = layers.conv2d(branch_3, 128, [1, 1], scope='Conv2d_0b_1x1')\n",
    "                    net = array_ops.concat([branch_0, branch_1, branch_2, branch_3], 3)\n",
    "                end_points[end_point] = net\n",
    "    return net, end_points"
   ]
  },
  {
   "cell_type": "markdown",
   "metadata": {
    "collapsed": true
   },
   "source": [
    "#### 2.3 finetune_InceptionV1"
   ]
  },
  {
   "cell_type": "code",
   "execution_count": 10,
   "metadata": {
    "collapsed": true
   },
   "outputs": [
    {
     "ename": "TypeError",
     "evalue": "Expected int32, got list containing Tensors of type '_Message' instead.",
     "output_type": "error",
     "traceback": [
      "\u001b[0;31m---------------------------------------------------------------------------\u001b[0m",
      "\u001b[0;31mTypeError\u001b[0m                                 Traceback (most recent call last)",
      "\u001b[0;32m<ipython-input-10-f2bfb45a3a85>\u001b[0m in \u001b[0;36m<module>\u001b[0;34m()\u001b[0m\n\u001b[1;32m     11\u001b[0m \u001b[1;33m\u001b[0m\u001b[0m\n\u001b[1;32m     12\u001b[0m \u001b[1;32mwith\u001b[0m \u001b[0mtf\u001b[0m\u001b[1;33m.\u001b[0m\u001b[0mvariable_scope\u001b[0m\u001b[1;33m(\u001b[0m\u001b[1;34m\"model_architecture\"\u001b[0m\u001b[1;33m)\u001b[0m\u001b[1;33m:\u001b[0m\u001b[1;33m\u001b[0m\u001b[0m\n\u001b[0;32m---> 13\u001b[0;31m     \u001b[0mMixed_5c\u001b[0m\u001b[1;33m,\u001b[0m \u001b[0mend_points\u001b[0m \u001b[1;33m=\u001b[0m \u001b[0minception_v1_base\u001b[0m\u001b[1;33m(\u001b[0m\u001b[0mx\u001b[0m\u001b[1;33m,\u001b[0m \u001b[0mauxi\u001b[0m\u001b[1;33m=\u001b[0m\u001b[1;32mTrue\u001b[0m\u001b[1;33m)\u001b[0m\u001b[1;33m\u001b[0m\u001b[0m\n\u001b[0m\u001b[1;32m     14\u001b[0m \u001b[1;33m\u001b[0m\u001b[0m\n\u001b[1;32m     15\u001b[0m     \u001b[0mend_point\u001b[0m \u001b[1;33m=\u001b[0m \u001b[1;34m\"AvgPool_6a_7x7\"\u001b[0m\u001b[1;33m\u001b[0m\u001b[0m\n",
      "\u001b[0;32m<ipython-input-9-079281a4c80b>\u001b[0m in \u001b[0;36minception_v1_base\u001b[0;34m(inputs, scope, auxi)\u001b[0m\n\u001b[1;32m     38\u001b[0m                         \u001b[0mbranch_3\u001b[0m \u001b[1;33m=\u001b[0m \u001b[0mslim\u001b[0m\u001b[1;33m.\u001b[0m\u001b[0mmax_pool2d\u001b[0m\u001b[1;33m(\u001b[0m\u001b[0mnet\u001b[0m\u001b[1;33m,\u001b[0m \u001b[1;33m[\u001b[0m\u001b[1;36m3\u001b[0m\u001b[1;33m,\u001b[0m\u001b[1;36m3\u001b[0m\u001b[1;33m]\u001b[0m\u001b[1;33m,\u001b[0m \u001b[0mscope\u001b[0m\u001b[1;33m=\u001b[0m\u001b[1;34m\"MaxPool_0a_3x3\"\u001b[0m\u001b[1;33m)\u001b[0m\u001b[1;33m\u001b[0m\u001b[0m\n\u001b[1;32m     39\u001b[0m                         \u001b[0mbranch_3\u001b[0m \u001b[1;33m=\u001b[0m \u001b[0mslim\u001b[0m\u001b[1;33m.\u001b[0m\u001b[0mconv2d\u001b[0m\u001b[1;33m(\u001b[0m\u001b[0mbranch_3\u001b[0m\u001b[1;33m,\u001b[0m \u001b[1;36m32\u001b[0m\u001b[1;33m,\u001b[0m \u001b[1;33m[\u001b[0m\u001b[1;36m1\u001b[0m\u001b[1;33m,\u001b[0m\u001b[1;36m1\u001b[0m\u001b[1;33m]\u001b[0m\u001b[1;33m,\u001b[0m \u001b[0mscope\u001b[0m\u001b[1;33m=\u001b[0m\u001b[1;34m\"Conv2d_0b_1x1\"\u001b[0m\u001b[1;33m)\u001b[0m\u001b[1;33m\u001b[0m\u001b[0m\n\u001b[0;32m---> 40\u001b[0;31m                     \u001b[0mnet\u001b[0m \u001b[1;33m=\u001b[0m \u001b[0mtf\u001b[0m\u001b[1;33m.\u001b[0m\u001b[0mconcat\u001b[0m\u001b[1;33m(\u001b[0m\u001b[1;36m3\u001b[0m\u001b[1;33m,\u001b[0m \u001b[1;33m[\u001b[0m\u001b[0mbranch_0\u001b[0m\u001b[1;33m,\u001b[0m \u001b[0mbranch_1\u001b[0m\u001b[1;33m,\u001b[0m \u001b[0mbranch_2\u001b[0m\u001b[1;33m,\u001b[0m \u001b[0mbranch_3\u001b[0m\u001b[1;33m]\u001b[0m\u001b[1;33m)\u001b[0m\u001b[1;33m\u001b[0m\u001b[0m\n\u001b[0m\u001b[1;32m     41\u001b[0m                 \u001b[0mend_points\u001b[0m\u001b[1;33m[\u001b[0m\u001b[0mend_point\u001b[0m\u001b[1;33m]\u001b[0m \u001b[1;33m=\u001b[0m \u001b[0mnet\u001b[0m\u001b[1;33m\u001b[0m\u001b[0m\n\u001b[1;32m     42\u001b[0m \u001b[1;33m\u001b[0m\u001b[0m\n",
      "\u001b[0;32mD:\\Anaconda3\\lib\\site-packages\\tensorflow\\python\\ops\\array_ops.py\u001b[0m in \u001b[0;36mconcat\u001b[0;34m(values, axis, name)\u001b[0m\n\u001b[1;32m   1094\u001b[0m       ops.convert_to_tensor(\n\u001b[1;32m   1095\u001b[0m           \u001b[0maxis\u001b[0m\u001b[1;33m,\u001b[0m \u001b[0mname\u001b[0m\u001b[1;33m=\u001b[0m\u001b[1;34m\"concat_dim\"\u001b[0m\u001b[1;33m,\u001b[0m\u001b[1;33m\u001b[0m\u001b[0m\n\u001b[0;32m-> 1096\u001b[0;31m           \u001b[0mdtype\u001b[0m\u001b[1;33m=\u001b[0m\u001b[0mdtypes\u001b[0m\u001b[1;33m.\u001b[0m\u001b[0mint32\u001b[0m\u001b[1;33m)\u001b[0m\u001b[1;33m.\u001b[0m\u001b[0mget_shape\u001b[0m\u001b[1;33m(\u001b[0m\u001b[1;33m)\u001b[0m\u001b[1;33m.\u001b[0m\u001b[0massert_is_compatible_with\u001b[0m\u001b[1;33m(\u001b[0m\u001b[1;33m\u001b[0m\u001b[0m\n\u001b[0m\u001b[1;32m   1097\u001b[0m               tensor_shape.scalar())\n\u001b[1;32m   1098\u001b[0m       \u001b[1;32mreturn\u001b[0m \u001b[0midentity\u001b[0m\u001b[1;33m(\u001b[0m\u001b[0mvalues\u001b[0m\u001b[1;33m[\u001b[0m\u001b[1;36m0\u001b[0m\u001b[1;33m]\u001b[0m\u001b[1;33m,\u001b[0m \u001b[0mname\u001b[0m\u001b[1;33m=\u001b[0m\u001b[0mscope\u001b[0m\u001b[1;33m)\u001b[0m\u001b[1;33m\u001b[0m\u001b[0m\n",
      "\u001b[0;32mD:\\Anaconda3\\lib\\site-packages\\tensorflow\\python\\framework\\ops.py\u001b[0m in \u001b[0;36mconvert_to_tensor\u001b[0;34m(value, dtype, name, preferred_dtype)\u001b[0m\n\u001b[1;32m    834\u001b[0m       \u001b[0mname\u001b[0m\u001b[1;33m=\u001b[0m\u001b[0mname\u001b[0m\u001b[1;33m,\u001b[0m\u001b[1;33m\u001b[0m\u001b[0m\n\u001b[1;32m    835\u001b[0m       \u001b[0mpreferred_dtype\u001b[0m\u001b[1;33m=\u001b[0m\u001b[0mpreferred_dtype\u001b[0m\u001b[1;33m,\u001b[0m\u001b[1;33m\u001b[0m\u001b[0m\n\u001b[0;32m--> 836\u001b[0;31m       as_ref=False)\n\u001b[0m\u001b[1;32m    837\u001b[0m \u001b[1;33m\u001b[0m\u001b[0m\n\u001b[1;32m    838\u001b[0m \u001b[1;33m\u001b[0m\u001b[0m\n",
      "\u001b[0;32mD:\\Anaconda3\\lib\\site-packages\\tensorflow\\python\\framework\\ops.py\u001b[0m in \u001b[0;36minternal_convert_to_tensor\u001b[0;34m(value, dtype, name, as_ref, preferred_dtype, ctx)\u001b[0m\n\u001b[1;32m    924\u001b[0m \u001b[1;33m\u001b[0m\u001b[0m\n\u001b[1;32m    925\u001b[0m     \u001b[1;32mif\u001b[0m \u001b[0mret\u001b[0m \u001b[1;32mis\u001b[0m \u001b[1;32mNone\u001b[0m\u001b[1;33m:\u001b[0m\u001b[1;33m\u001b[0m\u001b[0m\n\u001b[0;32m--> 926\u001b[0;31m       \u001b[0mret\u001b[0m \u001b[1;33m=\u001b[0m \u001b[0mconversion_func\u001b[0m\u001b[1;33m(\u001b[0m\u001b[0mvalue\u001b[0m\u001b[1;33m,\u001b[0m \u001b[0mdtype\u001b[0m\u001b[1;33m=\u001b[0m\u001b[0mdtype\u001b[0m\u001b[1;33m,\u001b[0m \u001b[0mname\u001b[0m\u001b[1;33m=\u001b[0m\u001b[0mname\u001b[0m\u001b[1;33m,\u001b[0m \u001b[0mas_ref\u001b[0m\u001b[1;33m=\u001b[0m\u001b[0mas_ref\u001b[0m\u001b[1;33m)\u001b[0m\u001b[1;33m\u001b[0m\u001b[0m\n\u001b[0m\u001b[1;32m    927\u001b[0m \u001b[1;33m\u001b[0m\u001b[0m\n\u001b[1;32m    928\u001b[0m     \u001b[1;32mif\u001b[0m \u001b[0mret\u001b[0m \u001b[1;32mis\u001b[0m \u001b[0mNotImplemented\u001b[0m\u001b[1;33m:\u001b[0m\u001b[1;33m\u001b[0m\u001b[0m\n",
      "\u001b[0;32mD:\\Anaconda3\\lib\\site-packages\\tensorflow\\python\\framework\\constant_op.py\u001b[0m in \u001b[0;36m_constant_tensor_conversion_function\u001b[0;34m(v, dtype, name, as_ref)\u001b[0m\n\u001b[1;32m    227\u001b[0m                                          as_ref=False):\n\u001b[1;32m    228\u001b[0m   \u001b[0m_\u001b[0m \u001b[1;33m=\u001b[0m \u001b[0mas_ref\u001b[0m\u001b[1;33m\u001b[0m\u001b[0m\n\u001b[0;32m--> 229\u001b[0;31m   \u001b[1;32mreturn\u001b[0m \u001b[0mconstant\u001b[0m\u001b[1;33m(\u001b[0m\u001b[0mv\u001b[0m\u001b[1;33m,\u001b[0m \u001b[0mdtype\u001b[0m\u001b[1;33m=\u001b[0m\u001b[0mdtype\u001b[0m\u001b[1;33m,\u001b[0m \u001b[0mname\u001b[0m\u001b[1;33m=\u001b[0m\u001b[0mname\u001b[0m\u001b[1;33m)\u001b[0m\u001b[1;33m\u001b[0m\u001b[0m\n\u001b[0m\u001b[1;32m    230\u001b[0m \u001b[1;33m\u001b[0m\u001b[0m\n\u001b[1;32m    231\u001b[0m \u001b[1;33m\u001b[0m\u001b[0m\n",
      "\u001b[0;32mD:\\Anaconda3\\lib\\site-packages\\tensorflow\\python\\framework\\constant_op.py\u001b[0m in \u001b[0;36mconstant\u001b[0;34m(value, dtype, shape, name, verify_shape)\u001b[0m\n\u001b[1;32m    206\u001b[0m   tensor_value.tensor.CopyFrom(\n\u001b[1;32m    207\u001b[0m       tensor_util.make_tensor_proto(\n\u001b[0;32m--> 208\u001b[0;31m           value, dtype=dtype, shape=shape, verify_shape=verify_shape))\n\u001b[0m\u001b[1;32m    209\u001b[0m   \u001b[0mdtype_value\u001b[0m \u001b[1;33m=\u001b[0m \u001b[0mattr_value_pb2\u001b[0m\u001b[1;33m.\u001b[0m\u001b[0mAttrValue\u001b[0m\u001b[1;33m(\u001b[0m\u001b[0mtype\u001b[0m\u001b[1;33m=\u001b[0m\u001b[0mtensor_value\u001b[0m\u001b[1;33m.\u001b[0m\u001b[0mtensor\u001b[0m\u001b[1;33m.\u001b[0m\u001b[0mdtype\u001b[0m\u001b[1;33m)\u001b[0m\u001b[1;33m\u001b[0m\u001b[0m\n\u001b[1;32m    210\u001b[0m   const_tensor = g.create_op(\n",
      "\u001b[0;32mD:\\Anaconda3\\lib\\site-packages\\tensorflow\\python\\framework\\tensor_util.py\u001b[0m in \u001b[0;36mmake_tensor_proto\u001b[0;34m(values, dtype, shape, verify_shape)\u001b[0m\n\u001b[1;32m    381\u001b[0m       \u001b[0mnparray\u001b[0m \u001b[1;33m=\u001b[0m \u001b[0mnp\u001b[0m\u001b[1;33m.\u001b[0m\u001b[0mempty\u001b[0m\u001b[1;33m(\u001b[0m\u001b[0mshape\u001b[0m\u001b[1;33m,\u001b[0m \u001b[0mdtype\u001b[0m\u001b[1;33m=\u001b[0m\u001b[0mnp_dt\u001b[0m\u001b[1;33m)\u001b[0m\u001b[1;33m\u001b[0m\u001b[0m\n\u001b[1;32m    382\u001b[0m     \u001b[1;32melse\u001b[0m\u001b[1;33m:\u001b[0m\u001b[1;33m\u001b[0m\u001b[0m\n\u001b[0;32m--> 383\u001b[0;31m       \u001b[0m_AssertCompatible\u001b[0m\u001b[1;33m(\u001b[0m\u001b[0mvalues\u001b[0m\u001b[1;33m,\u001b[0m \u001b[0mdtype\u001b[0m\u001b[1;33m)\u001b[0m\u001b[1;33m\u001b[0m\u001b[0m\n\u001b[0m\u001b[1;32m    384\u001b[0m       \u001b[0mnparray\u001b[0m \u001b[1;33m=\u001b[0m \u001b[0mnp\u001b[0m\u001b[1;33m.\u001b[0m\u001b[0marray\u001b[0m\u001b[1;33m(\u001b[0m\u001b[0mvalues\u001b[0m\u001b[1;33m,\u001b[0m \u001b[0mdtype\u001b[0m\u001b[1;33m=\u001b[0m\u001b[0mnp_dt\u001b[0m\u001b[1;33m)\u001b[0m\u001b[1;33m\u001b[0m\u001b[0m\n\u001b[1;32m    385\u001b[0m       \u001b[1;31m# check to them.\u001b[0m\u001b[1;33m\u001b[0m\u001b[1;33m\u001b[0m\u001b[0m\n",
      "\u001b[0;32mD:\\Anaconda3\\lib\\site-packages\\tensorflow\\python\\framework\\tensor_util.py\u001b[0m in \u001b[0;36m_AssertCompatible\u001b[0;34m(values, dtype)\u001b[0m\n\u001b[1;32m    301\u001b[0m     \u001b[1;32melse\u001b[0m\u001b[1;33m:\u001b[0m\u001b[1;33m\u001b[0m\u001b[0m\n\u001b[1;32m    302\u001b[0m       raise TypeError(\"Expected %s, got %s of type '%s' instead.\" %\n\u001b[0;32m--> 303\u001b[0;31m                       (dtype.name, repr(mismatch), type(mismatch).__name__))\n\u001b[0m\u001b[1;32m    304\u001b[0m \u001b[1;33m\u001b[0m\u001b[0m\n\u001b[1;32m    305\u001b[0m \u001b[1;33m\u001b[0m\u001b[0m\n",
      "\u001b[0;31mTypeError\u001b[0m: Expected int32, got list containing Tensors of type '_Message' instead."
     ]
    }
   ],
   "source": [
    "tf.reset_default_graph()\n",
    "batch_size = 64\n",
    "num_classes = 10\n",
    "num_epochs = 10\n",
    "keep_prob = 0.3\n",
    "learning_rate = 0.01\n",
    "\n",
    "with tf.name_scope(\"inputs\"):\n",
    "    x = tf.placeholder(tf.float32, [batch_size, 28, 28, 1])\n",
    "    y = tf.placeholder(tf.float32, [batch_size , num_classes])\n",
    "    \n",
    "with tf.variable_scope(\"model_architecture\"):\n",
    "    Mixed_5c, end_points = inception_v1_base(x, auxi=True)\n",
    "    \n",
    "    end_point = \"AvgPool_6a_7x7\"\n",
    "    avg = slim.avg_pool2d(Mixed_5c, [7,7], stride=1, scope=end_point)\n",
    "    end_points[end_point] = avg\n",
    "    \n",
    "    end_point = \"flatten\"\n",
    "    flatten = tf.reshape(avg, [-1,1024])\n",
    "    end_points[end_point] = flatten\n",
    "    \n",
    "    end_point = \"dropout\"\n",
    "    dropout = slim.dropout(flatten, keep_prob,scope=end_point)\n",
    "    end_points[end_point] = dropout\n",
    "    \n",
    "    end_point = \"fc\"\n",
    "    fc = slim.fully_connected(dropout, num_classes, activation_fn=None, scope=end_point)\n",
    "    end_points[end_point] = fc\n",
    "    \n",
    "    end_point = \"prediction\"\n",
    "    soft = tf.nn.softmax(fc, name=\"prediction\")\n",
    "\n",
    "with tf.variable_scope(\"loss\"):\n",
    "    cross_entropy = tf.nn.softmax_cross_entropy_with_logits(logists=fc, labels=y)\n",
    "    loss = tf.reduce_mean(cross_entropy)\n",
    "\n",
    "tf.summary.scalar(\"loss\",loss)\n",
    "\n",
    "with tf.variable_scope(\"train\"):\n",
    "    optimizer = tf.train.GradientDescentOptimizer(loss)\n",
    "    train_op = optimizer.minimize(loss)\n",
    "\n",
    "with tf.variable_scope(\"accuracy\"):\n",
    "    correct_pred = tf.equal(tf.argmax(fc,1), tf.argmax(y,1))\n",
    "    accuracy = tf.reduce_mean(tf.cast(correct_pred, tf.float32))\n",
    "\n",
    "tf.summary.scalar(\"accuracy\", accuracy)\n",
    "\n",
    "merged_summary = tf.summary.merge_all()\n",
    "writer = tf.summary.Writer(r\"c:\\users\\bingo\\desktop\\log\")\n",
    "\n",
    "with tf.Session() as sess:\n",
    "    init = tf.global_variables_initializer()\n",
    "    sess.run(init)\n",
    "    next_batch = get_data(batch_size, num_epochs)\n",
    "    for epoch in range(num_epochs):\n",
    "        img_batch, label_batch = sess.run(next_batch)\n",
    "        img_batch = np.reshape(img_batch, [-1, 28, 28, 1])\n",
    "        label_batch = sess.run(tf.one_hot(label_batch, num_classes))\n",
    "        \n",
    "        _, summary = sess.run([trrain_op, merged_summary], feed_dict={x:img_batch, y:label_batch})\n",
    "        writer.add_summary(summary, epoch)\n",
    "    writer.close()"
   ]
  },
  {
   "cell_type": "code",
   "execution_count": null,
   "metadata": {
    "collapsed": true
   },
   "outputs": [],
   "source": []
  }
 ],
 "metadata": {
  "kernelspec": {
   "display_name": "Python 3",
   "language": "python",
   "name": "python3"
  },
  "language_info": {
   "codemirror_mode": {
    "name": "ipython",
    "version": 3
   },
   "file_extension": ".py",
   "mimetype": "text/x-python",
   "name": "python",
   "nbconvert_exporter": "python",
   "pygments_lexer": "ipython3",
   "version": "3.6.0"
  },
  "toc": {
   "nav_menu": {
    "height": "69px",
    "width": "174px"
   },
   "number_sections": false,
   "sideBar": true,
   "skip_h1_title": false,
   "toc_cell": true,
   "toc_position": {
    "height": "530px",
    "left": "0px",
    "right": "1071px",
    "top": "107px",
    "width": "284px"
   },
   "toc_section_display": "block",
   "toc_window_display": false
  }
 },
 "nbformat": 4,
 "nbformat_minor": 2
}
