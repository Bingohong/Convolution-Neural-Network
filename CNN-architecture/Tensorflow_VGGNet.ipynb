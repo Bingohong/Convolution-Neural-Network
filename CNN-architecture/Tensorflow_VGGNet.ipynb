{
 "cells": [
  {
   "cell_type": "markdown",
   "metadata": {
    "toc": true
   },
   "source": [
    "<h1>Table of Contents<span class=\"tocSkip\"></span></h1>\n",
    "<div class=\"toc\" style=\"margin-top: 1em;\"><ul class=\"toc-item\"><li><ul class=\"toc-item\"><li><span><a href=\"#Image-Recongnition-Case-with-CNN-By-Tensorflow\" data-toc-modified-id=\"Image-Recongnition-Case-with-CNN-By-Tensorflow-0.1\">Image Recongnition Case with CNN By Tensorflow</a></span><ul class=\"toc-item\"><li><span><a href=\"#1.Loading-data\" data-toc-modified-id=\"1.Loading-data-0.1.1\">1.Loading data</a></span><ul class=\"toc-item\"><li><span><a href=\"#1.1创建TFReord文件(create-TFRecord-file)\" data-toc-modified-id=\"1.1创建TFReord文件(create-TFRecord-file)-0.1.1.1\">1.1创建TFReord文件(create TFRecord file)</a></span></li><li><span><a href=\"#1.2-读取TFRecord文件\" data-toc-modified-id=\"1.2-读取TFRecord文件-0.1.1.2\">1.2 读取TFRecord文件</a></span></li></ul></li><li><span><a href=\"#2.Building-a-Inception-Module\" data-toc-modified-id=\"2.Building-a-Inception-Module-0.1.2\">2.Building a Inception Module</a></span><ul class=\"toc-item\"><li><span><a href=\"#2.1-a-block-of-inception-network\" data-toc-modified-id=\"2.1-a-block-of-inception-network-0.1.2.1\">2.1 a block of inception network</a></span></li><li><span><a href=\"#2.2-Inception-V1-architecture\" data-toc-modified-id=\"2.2-Inception-V1-architecture-0.1.2.2\">2.2 Inception-V1 architecture</a></span></li><li><span><a href=\"#2.3-finetune_InceptionV1\" data-toc-modified-id=\"2.3-finetune_InceptionV1-0.1.2.3\">2.3 finetune_InceptionV1</a></span></li></ul></li><li><span><a href=\"#3.Alexnet-model\" data-toc-modified-id=\"3.Alexnet-model-0.1.3\">3.Alexnet model</a></span><ul class=\"toc-item\"><li><span><a href=\"#3.1-define-network-layers\" data-toc-modified-id=\"3.1-define-network-layers-0.1.3.1\">3.1 define network layers</a></span></li><li><span><a href=\"#3.2-implementation-of-Alexnet-architecture\" data-toc-modified-id=\"3.2-implementation-of-Alexnet-architecture-0.1.3.2\">3.2 implementation of Alexnet architecture</a></span></li><li><span><a href=\"#3.3-finetune_alexnet\" data-toc-modified-id=\"3.3-finetune_alexnet-0.1.3.3\">3.3 finetune_alexnet</a></span></li></ul></li><li><span><a href=\"#4.-VGGNet-model\" data-toc-modified-id=\"4.-VGGNet-model-0.1.4\">4. VGGNet model</a></span><ul class=\"toc-item\"><li><span><a href=\"#4.1-implementation-of-VGG-16-architecture\" data-toc-modified-id=\"4.1-implementation-of-VGG-16-architecture-0.1.4.1\">4.1 implementation of VGG-16 architecture</a></span></li><li><span><a href=\"#4.2-finetune_vggnet\" data-toc-modified-id=\"4.2-finetune_vggnet-0.1.4.2\">4.2 finetune_vggnet</a></span></li></ul></li></ul></li></ul></li></ul></div>"
   ]
  },
  {
   "cell_type": "markdown",
   "metadata": {},
   "source": [
    "## Image Recongnition Case with CNN By Tensorflow\n",
    "Refrence List\n",
    "- Coursera course [Deep Learning Specialization](https://www.coursera.org/specializations/deep-learning) by Andrew Ng\n",
    "- [An Introduction to Implementing Neural Networks using Tensorflow](https://www.analyticsvidhya.com/blog/2016/10/an-introduction-to-implementing-neural-networks-using-tensorflow/)\n",
    "- [Deep Learning with Tensorflow](https://github.com/caicloud/tensorflow-tutorial)"
   ]
  },
  {
   "cell_type": "markdown",
   "metadata": {},
   "source": [
    "- The arthitechture of Inception-v3 is an classic [Convolutional Neural Network](https://en.wikipedia.org/wiki/Convolutional_neural_network)\n",
    " - stacking the output layers convoluting by different filter \n",
    " - the different filter can detect various scale feature \n",
    " - keeping scale invariance property\n",
    "- Tensorflow is a low level library\n",
    "- To define a neural network architecture, you should have fundamental knowledge of NN:\n",
    " - initialize parameter\n",
    " - forward propagation\n",
    " - compute cost\n",
    " - backward propagation\n",
    " - update parameter"
   ]
  },
  {
   "cell_type": "code",
   "execution_count": 1,
   "metadata": {
    "collapsed": false
   },
   "outputs": [],
   "source": [
    "import math\n",
    "import numpy as np\n",
    "import pandas as pd\n",
    "import matplotlib.pyplot as plt\n",
    "import tensorflow as tf\n",
    "import tensorflow.contrib.slim as slim\n",
    "from tensorflow.python.framework import ops\n",
    "\n",
    "from sklearn.model_selection import train_test_split\n",
    "import os\n",
    "path = r\"F:\\Diverse\\statistics\\Python_data_analysis\\Kaggle项目\\20170926_MNIST\\dataset\"\n",
    "os.chdir(path)\n",
    "\n",
    "%matplotlib inline\n",
    "np.random.seed(1)"
   ]
  },
  {
   "cell_type": "markdown",
   "metadata": {
    "collapsed": true
   },
   "source": [
    "### 1.Loading data\n",
    "- create a TFRecord file\n",
    "- loading data API\n",
    " - tf.data.dataset\n",
    " - tf.data.TFRecordDataset"
   ]
  },
  {
   "cell_type": "markdown",
   "metadata": {},
   "source": [
    "#### 1.1创建TFReord文件(create TFRecord file)"
   ]
  },
  {
   "cell_type": "raw",
   "metadata": {
    "collapsed": true
   },
   "source": [
    "# 定义整数型和字符串型数据属性\n",
    "def _int64_feature(value):\n",
    "    return tf.train.Feature(int64_list=tf.train.Int64List(value=[value]))\n",
    "def _bytes_feature(value):\n",
    "    return tf.train.Feature(bytes_list=tf.train.BytesList(value=[value]))"
   ]
  },
  {
   "cell_type": "raw",
   "metadata": {
    "collapsed": false
   },
   "source": [
    "#读取原始数据\n",
    "train = pd.read_csv(\"train.csv\")\n",
    "label = train.label.values\n",
    "data = train.iloc[:,1:]\n",
    "data = np.reshape(data.values,newshape=(data.shape[0],28,28,1))\n",
    "print(data.shape)"
   ]
  },
  {
   "cell_type": "raw",
   "metadata": {
    "collapsed": true
   },
   "source": [
    "# 创建TFRcord文件\n",
    "filename = r\"mnist.tfrecords\" #地址必须已经存在\n",
    "writer = tf.python_io.TFRecordWriter(filename)\n",
    "examples_num = data.shape[0]\n",
    "for index in range(examples_num):\n",
    "    image_raw = data[index,:].tostring()# 图像转化为字符串\n",
    "    # 定义Example Protocal Buffer数据结构，写入样例\n",
    "    example = tf.train.Example(features=tf.train.Features(feature={\n",
    "        \"labels\": _int64_feature(label[index]),\n",
    "        \"image_raw\": _bytes_feature(image_raw)\n",
    "    }))\n",
    "    writer.write(example.SerializeToString())\n",
    "writer.close()"
   ]
  },
  {
   "cell_type": "markdown",
   "metadata": {},
   "source": [
    "#### 1.2 读取TFRecord文件"
   ]
  },
  {
   "cell_type": "raw",
   "metadata": {
    "collapsed": false
   },
   "source": [
    "# 解析方法1\n",
    "filename = r\"mnist.tfrecords\" #地址必须已经存在\n",
    "file = tf.train.string_input_producer([filename])\n",
    "reader = tf.TFRecordReader()\n",
    "_,example = reader.read(file)\n",
    "features = tf.parse_single_example(example,\n",
    "                                      features={\n",
    "                                          \"image_raw\": tf.FixedLenFeature([],tf.string),\n",
    "                                          \"labels\": tf.FixedLenFeature([],tf.int64)\n",
    "                                      })\n",
    "    \n",
    "images = tf.decode_raw(features[\"image_raw\"],tf.int64)\n",
    "labels = tf.cast(features[\"labels\"], tf.int8)\n",
    "\n",
    "sess = tf.Session()\n",
    "coord = tf.train.Coordinator()\n",
    "threads = tf.train.start_queue_runners(sess=sess,coord=coord)\n",
    "image,label = sess.run([images,labels])"
   ]
  },
  {
   "cell_type": "code",
   "execution_count": 2,
   "metadata": {
    "collapsed": false
   },
   "outputs": [
    {
     "data": {
      "text/plain": [
       "'\\nsess = tf.Session()\\nfor i in range(2):\\n    image_data,labels_data=sess.run(one_element)\\n'"
      ]
     },
     "execution_count": 2,
     "metadata": {},
     "output_type": "execute_result"
    }
   ],
   "source": [
    "#解析方法2\n",
    "def parser(example):\n",
    "    features={\"image_raw\": tf.FixedLenFeature([],tf.string),\n",
    "          \"labels\": tf.FixedLenFeature([],tf.int64)}\n",
    "    feature = tf.parse_single_example(example,features)\n",
    "    images = tf.decode_raw(feature[\"image_raw\"],tf.int64)\n",
    "    label = tf.cast(feature[\"labels\"], tf.int8)\n",
    "    return images,label\n",
    "\n",
    "def get_data(batch, epoch):\n",
    "    filename = r\"mnist.tfrecords\" #地址必须已经存在\n",
    "    dataset = tf.data.TFRecordDataset([filename])\n",
    "    maps = dataset.map(parser)\n",
    "    batch_data = maps.repeat(epoch)\n",
    "    batch_data = batch_data.batch(batch) \n",
    "    iterator =batch_data.make_one_shot_iterator() #iterator对象\n",
    "    one_element = iterator.get_next() #tensor对象\n",
    "    return one_element\n",
    "\n",
    "'''\n",
    "sess = tf.Session()\n",
    "for i in range(2):\n",
    "    image_data,labels_data=sess.run(one_element)\n",
    "'''"
   ]
  },
  {
   "cell_type": "code",
   "execution_count": 5,
   "metadata": {
    "collapsed": true
   },
   "outputs": [],
   "source": [
    "test = pd.read_csv(\"test.csv\")"
   ]
  },
  {
   "cell_type": "markdown",
   "metadata": {},
   "source": [
    "To reduce training time, I just pick up 15% example for fitting my model."
   ]
  },
  {
   "cell_type": "code",
   "execution_count": 6,
   "metadata": {
    "collapsed": true
   },
   "outputs": [],
   "source": [
    "train_sample = train.sample(frac=0.15)\n",
    "X_train_flatten = train_sample.iloc[:,1:].values\n",
    "Y_train_onehot = convert_to_one_hot(train_sample.iloc[:,0].values,10)\n",
    "X_test_flatten = test.values"
   ]
  },
  {
   "cell_type": "code",
   "execution_count": 7,
   "metadata": {
    "collapsed": false
   },
   "outputs": [],
   "source": [
    "X_train, X_dev, Y_train, Y_dev = train_test_split(X_train_flatten, Y_train_onehot, random_state=42)"
   ]
  },
  {
   "cell_type": "code",
   "execution_count": 8,
   "metadata": {
    "collapsed": false
   },
   "outputs": [],
   "source": [
    "X_train = X_train/255\n",
    "X_dev = X_dev/255\n",
    "X_test = X_test_flatten/255"
   ]
  },
  {
   "cell_type": "code",
   "execution_count": 9,
   "metadata": {
    "collapsed": false
   },
   "outputs": [
    {
     "name": "stdout",
     "output_type": "stream",
     "text": [
      "number of training examples = 784\n",
      "number of dev examples = 784\n",
      "number of test examples = 784\n",
      "X_train shape: (4725, 784)\n",
      "Y_train shape: (4725, 10)\n",
      "X_dev shape: (1575, 784)\n",
      "Y_dev shape: (1575, 10)\n",
      "X_test shape: (28000, 784)\n"
     ]
    }
   ],
   "source": [
    "print (\"number of training examples = \" + str(X_train.shape[1]))\n",
    "print (\"number of dev examples = \" + str(X_dev.shape[1]))\n",
    "print (\"number of test examples = \" + str(X_test.shape[1]))\n",
    "print (\"X_train shape: \" + str(X_train.shape))\n",
    "print (\"Y_train shape: \" + str(Y_train.shape))\n",
    "print (\"X_dev shape: \" + str(X_dev.shape))\n",
    "print (\"Y_dev shape: \" + str(Y_dev.shape))\n",
    "print (\"X_test shape: \" + str(X_test.shape))"
   ]
  },
  {
   "cell_type": "markdown",
   "metadata": {
    "collapsed": true
   },
   "source": [
    "### 4. VGGNet model\n",
    " - VGG-16, 16-layers\n",
    " - VGG-19, 19-layers"
   ]
  },
  {
   "cell_type": "markdown",
   "metadata": {},
   "source": [
    "#### 4.1 implementation of VGG-16 architecture"
   ]
  },
  {
   "cell_type": "code",
   "execution_count": 25,
   "metadata": {
    "collapsed": true
   },
   "outputs": [],
   "source": [
    "def vgg_16(inputs, num_classes=1000, keep_prob=0.5,\n",
    "          scope=\"vgg_16\", fc_conv_padding=\"VALID\"):\n",
    "    with tf.variable_scope(scope,\"vgg_16\", [inputs]) as sc:\n",
    "        end_points_collection = sc.original_name_scope + \"_end_points\"\n",
    "        with slim.arg_scope([slim.conv2d, slim.fully_connected, slim.max_pool2d],\n",
    "                           outputs_collections=end_points_collection):\n",
    "            net = slim.repeat(inputs, 2, slim.conv2d, 64, [3,3], scope=\"conv1\")\n",
    "            net = slim.max_pool2d(net, [2,2], scope=\"pool1\")\n",
    "            net = slim.repeat(net, 2, slim.conv2d, 128, [3,3], scope=\"conv2\")\n",
    "            net = slim.max_pool2d(net, [2,2], scope=\"pool2\")\n",
    "            net = slim.repeat(net, 3, slim.conv2d, 256, [3,3], scope=\"conv3\")\n",
    "            net = slim.max_pool2d(net, [2,2], scope=\"pool3\")\n",
    "            net = slim.repeat(net, 3, slim.conv2d, 512, [3,3], scope=\"conv4\")\n",
    "            net = slim.max_pool2d(net, [2,2], scope=\"pool4\")\n",
    "            net = slim.repeat(net, 3, slim.conv2d, 512, [3,3], scope=\"conv5\")\n",
    "            net = slim.max_pool2d(net, [2,2], scope=\"pool5\")\n",
    "            # use conv2d instead of fully_connected layers\n",
    "            net = slim.conv2d(net, 4096, [7,7], padding=fc_conv_padding, scope=\"fc6\")\n",
    "            net = slim.dropout(net, keep_prob, scope=\"dropout6\")\n",
    "            net = slim.conv2d(net, 4096, [1,1], scope=\"fc7\")\n",
    "            net = slim.dropout(net, keep_prob, scope=\"dropout7\")\n",
    "            net = slim.conv2d(net, num_classes, [1,1], activation_fn=None, \n",
    "                              normalizer_fn=None, scope=\"fc8\")\n",
    "            net = tf.squeeze(net, [1,2], name=\"fc8/squeeze\")\n",
    "            # convert end_points_collection into a end_point dict\n",
    "            end_points = slim.utils.convert_collection_to_dict(end_points_collection)\n",
    "            end_points[sc.name+\"fc8\"] = net\n",
    "        return net, end_points"
   ]
  },
  {
   "cell_type": "markdown",
   "metadata": {},
   "source": [
    "#### 4.2 finetune_vggnet"
   ]
  },
  {
   "cell_type": "code",
   "execution_count": null,
   "metadata": {
    "collapsed": false
   },
   "outputs": [],
   "source": [
    "# 图像尺寸28x28x1太小，不适合深层网络\n",
    "tf.reset_default_graph()\n",
    "batch_sizes = 128\n",
    "learning_rate = 0.01\n",
    "keep_prob = 0.5\n",
    "num_epochs = 10\n",
    "num_classes = 10\n",
    "\n",
    "with tf.name_scope(\"inputs\"):\n",
    "    x = tf.placeholder(tf.float32, [batch_sizes, 28, 28, 1])\n",
    "    y = tf.placeholder(tf.float32, [batch_sizes, num_classes])\n",
    "\n",
    "with tf.variable_scope(\"Vgg_model\"):\n",
    "    fc8, end_points_dict = vgg_16(x, num_classes)\n",
    "\n",
    "with tf.name_scope(\"loss\"):\n",
    "    cross_entropy = tf.nn.softmax_cross_entropy_with_logits(logits=fc8, labels=y)\n",
    "    loss = tf.reduce_mean(cross_entropy)\n",
    "    \n",
    "tf.summary.scalar(\"loss\", loss)    \n",
    "\n",
    "with tf.name_scope(\"train\"):\n",
    "    optimizer = tf.train.GradientDescentOptimizer(learning_rate)\n",
    "    train_op = optimizer.minimize(loss)\n",
    "\n",
    "with tf.name_scope(\"accuracy\"):\n",
    "    correct_pred = tf.equal(tf.argmax(fc8,1),tf.argmax(y,1))\n",
    "    accuracy = tf.reduce_mean(tf.cast(correct_pred, tf.float32))\n",
    "\n",
    "tf.summary.scalar(\"accuracy\", accuracy)\n",
    "\n",
    "mergered_summary = tf.summary.merge_all()\n",
    "writer = tf.summary.FileWriter(r\"c:\\users\\bingo\\desktop\\log\")\n",
    "\n",
    "with tf.Session() as sess:\n",
    "    init = tf.global_variables_initializer()\n",
    "    sess.run(init)\n",
    "    next_batch = get_data(batch_sizes, num_epochs)\n",
    "    writer.add_graph(sess.graph)\n",
    "    for epoch in range(num_epochs):\n",
    "        img_batch, label_batch = sess.run(next_batch)\n",
    "        img_batch = np.reshape(img_batch, [-1, 28, 28, 1])\n",
    "        label_batch = sess.run(tf.one_hot(label_batch, num_classes))\n",
    "        _, summary = sess.run([train_op, mergered_summary],feed_dict = {x:img_batch, y:label_batch})\n",
    "        writer.add_summary(summary, epoch)\n",
    "    writer.close()"
   ]
  },
  {
   "cell_type": "code",
   "execution_count": null,
   "metadata": {
    "collapsed": true
   },
   "outputs": [],
   "source": []
  }
 ],
 "metadata": {
  "kernelspec": {
   "display_name": "Python 3",
   "language": "python",
   "name": "python3"
  },
  "language_info": {
   "codemirror_mode": {
    "name": "ipython",
    "version": 3
   },
   "file_extension": ".py",
   "mimetype": "text/x-python",
   "name": "python",
   "nbconvert_exporter": "python",
   "pygments_lexer": "ipython3",
   "version": "3.6.0"
  },
  "toc": {
   "nav_menu": {
    "height": "69px",
    "width": "174px"
   },
   "number_sections": false,
   "sideBar": true,
   "skip_h1_title": false,
   "toc_cell": true,
   "toc_position": {
    "height": "530px",
    "left": "0px",
    "right": "1071px",
    "top": "107px",
    "width": "284px"
   },
   "toc_section_display": "block",
   "toc_window_display": false
  }
 },
 "nbformat": 4,
 "nbformat_minor": 2
}
